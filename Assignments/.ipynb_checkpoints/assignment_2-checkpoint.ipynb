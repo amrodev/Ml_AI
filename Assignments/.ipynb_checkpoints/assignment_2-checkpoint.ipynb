{
 "cells": [
  {
   "cell_type": "code",
   "execution_count": 7,
   "id": "88ce05b9-33d3-49fa-a8f7-2dc8980191b0",
   "metadata": {
    "tags": []
   },
   "outputs": [
    {
     "name": "stdout",
     "output_type": "stream",
     "text": [
      "(1, 2, 3, 5)\n"
     ]
    }
   ],
   "source": [
    "## 1. Write a Python program to add an item to a tuple.\n",
    "tub = (1,2,3)\n",
    "item = 5\n",
    "new_tub = tub + (item,)\n",
    "print(new_tub)"
   ]
  },
  {
   "cell_type": "code",
   "execution_count": 10,
   "id": "a0a66649-af6e-4655-9a85-3df020682f12",
   "metadata": {
    "tags": []
   },
   "outputs": [
    {
     "name": "stdout",
     "output_type": "stream",
     "text": [
      "25\n"
     ]
    }
   ],
   "source": [
    "## 2. Write a Python program to sum all the items in a list.\n",
    "lst = [5,5,5,5,5]\n",
    "result = 0\n",
    "for i in lst:\n",
    "    result += i\n",
    "print(result)    "
   ]
  },
  {
   "cell_type": "code",
   "execution_count": 13,
   "id": "dd9e0741-8324-42f2-b0ca-54e2038abaff",
   "metadata": {
    "tags": []
   },
   "outputs": [
    {
     "name": "stdout",
     "output_type": "stream",
     "text": [
      "625\n"
     ]
    }
   ],
   "source": [
    "## 3. Write a Python program to multiply all the items in a list.\n",
    "lst = [5,5,5,5]\n",
    "result = 1\n",
    "for i in lst:\n",
    "    result *= i\n",
    "print(result) "
   ]
  },
  {
   "cell_type": "code",
   "execution_count": 15,
   "id": "8f75f1a1-47b2-4e72-b05f-8f6b80d9ee92",
   "metadata": {
    "tags": []
   },
   "outputs": [
    {
     "name": "stdout",
     "output_type": "stream",
     "text": [
      "2\n"
     ]
    }
   ],
   "source": [
    "## 4. Write a Python program to get the smallest number from a list.\n",
    "lst = [4,3,2,10]\n",
    "les_num = lst[0]\n",
    "for i in lst:\n",
    "    if i < les_num:\n",
    "        les_num = i\n",
    "print(les_num)        "
   ]
  },
  {
   "cell_type": "code",
   "execution_count": 18,
   "id": "802ae363-613e-438e-ace6-f138526c41ab",
   "metadata": {
    "tags": []
   },
   "outputs": [
    {
     "name": "stdout",
     "output_type": "stream",
     "text": [
      "10\n"
     ]
    }
   ],
   "source": [
    "## 5. Write a Python program to get the largest number from a list.\n",
    "lst = [4,3,2,10]\n",
    "grt_num = lst[0]\n",
    "for i in lst:\n",
    "    if i > grt_num:\n",
    "        grt_num = i\n",
    "print(grt_num) "
   ]
  },
  {
   "cell_type": "code",
   "execution_count": 23,
   "id": "14dcc448-166b-4a27-8890-cb294d96eea5",
   "metadata": {
    "tags": []
   },
   "outputs": [
    {
     "name": "stdout",
     "output_type": "stream",
     "text": [
      "4\n"
     ]
    }
   ],
   "source": [
    "## 6. Write a Python program to count the number of strings from a given list of strings\n",
    "lst = ['hello','i','am','amr']\n",
    "print(len(lst))    "
   ]
  },
  {
   "cell_type": "code",
   "execution_count": 24,
   "id": "6b763e1f-a04d-4b33-940b-c233300be5bc",
   "metadata": {
    "tags": []
   },
   "outputs": [
    {
     "name": "stdout",
     "output_type": "stream",
     "text": [
      "[1, 2, 3]\n"
     ]
    }
   ],
   "source": [
    "## Write a Python program to clone or copy a list\n",
    "def copy(lst):\n",
    "    return lst\n",
    "\n",
    "lst = [1,2,3]\n",
    "lst2 = copy(lst)\n",
    "print(lst2)\n"
   ]
  },
  {
   "cell_type": "code",
   "execution_count": 25,
   "id": "7e591c71-aabb-448c-971a-67ad83ae0caf",
   "metadata": {
    "tags": []
   },
   "outputs": [
    {
     "name": "stdout",
     "output_type": "stream",
     "text": [
      "[3, 2, 10]\n"
     ]
    }
   ],
   "source": [
    "## 8. Write a Python program to remove item(s) from a given set.\n",
    "def remove_item(item,lst):\n",
    "    lst.remove(item)\n",
    "    return lst\n",
    "lst = [4,3,2,10]  \n",
    "print(remove_item(4,lst))"
   ]
  },
  {
   "cell_type": "code",
   "execution_count": 26,
   "id": "6172fd76-6880-4def-a61c-9b97fb17cd12",
   "metadata": {
    "tags": []
   },
   "outputs": [],
   "source": [
    "## 9. Write a Python program to check if a set is a subset of another set.\n",
    "    \n",
    "    "
   ]
  },
  {
   "cell_type": "code",
   "execution_count": 34,
   "id": "dd69e830-183c-4348-b56e-ae6643bb56a6",
   "metadata": {
    "tags": []
   },
   "outputs": [
    {
     "name": "stdout",
     "output_type": "stream",
     "text": [
      "set()\n"
     ]
    }
   ],
   "source": [
    "## 10. Write a Python program to remove all elements from a given set.\n",
    "st = {1, 2, 3, 4, 5}\n",
    "st.clear()\n",
    "print(st)"
   ]
  },
  {
   "cell_type": "code",
   "execution_count": 42,
   "id": "d7bc1972-d2f3-4b2f-87b8-d4e321bd11e6",
   "metadata": {
    "tags": []
   },
   "outputs": [
    {
     "name": "stdout",
     "output_type": "stream",
     "text": [
      "10 1\n"
     ]
    }
   ],
   "source": [
    "## 11. Write a Python program to find the maximum and minimum values in a set.\n",
    "st = {2, 4, 5, 6, 10}\n",
    "max_item = 1\n",
    "min_item = 1\n",
    "for i in st:\n",
    "    if i < min_item:\n",
    "        min_item = i\n",
    "    if i > max_item:\n",
    "        max_item = i\n",
    "        \n",
    "print(max_item,min_item)        "
   ]
  },
  {
   "cell_type": "code",
   "execution_count": 95,
   "id": "21d0b4a8-3ff6-416a-98f5-cc2aef38bc6d",
   "metadata": {
    "tags": []
   },
   "outputs": [
    {
     "name": "stdout",
     "output_type": "stream",
     "text": [
      "{'a': 1, 'b': 2, 'c': 3}\n"
     ]
    }
   ],
   "source": [
    "# 12. Write a Python program to find the index of an item in a tuple.\n",
    "tub = ((\"a\", 1), (\"b\", 2), (\"c\", 3))\n",
    "\n",
    "dic = {}\n",
    "for i in tub:\n",
    "    key, value = i\n",
    "    dic[key] = value\n",
    "\n",
    "# Print the resulting dictionary\n",
    "print(dic)"
   ]
  },
  {
   "cell_type": "code",
   "execution_count": 71,
   "id": "b6a37c24-e54a-496d-befa-d106f25e87bd",
   "metadata": {
    "tags": []
   },
   "outputs": [
    {
     "ename": "AttributeError",
     "evalue": "'dict' object has no attribute 'append'",
     "output_type": "error",
     "traceback": [
      "\u001b[1;31m---------------------------------------------------------------------------\u001b[0m",
      "\u001b[1;31mAttributeError\u001b[0m                            Traceback (most recent call last)",
      "Cell \u001b[1;32mIn[71], line 8\u001b[0m\n\u001b[0;32m      6\u001b[0m     \u001b[38;5;28;01mreturn\u001b[39;00m dic\n\u001b[0;32m      7\u001b[0m tub \u001b[38;5;241m=\u001b[39m ((\u001b[38;5;241m1\u001b[39m, \u001b[38;5;124m'\u001b[39m\u001b[38;5;124mapple\u001b[39m\u001b[38;5;124m'\u001b[39m), (\u001b[38;5;241m2\u001b[39m, \u001b[38;5;124m'\u001b[39m\u001b[38;5;124mbanana\u001b[39m\u001b[38;5;124m'\u001b[39m))\n\u001b[1;32m----> 8\u001b[0m \u001b[38;5;28mprint\u001b[39m(convTubtoDic(tub))\n",
      "Cell \u001b[1;32mIn[71], line 5\u001b[0m, in \u001b[0;36mconvTubtoDic\u001b[1;34m(tub)\u001b[0m\n\u001b[0;32m      3\u001b[0m dic \u001b[38;5;241m=\u001b[39m {}\n\u001b[0;32m      4\u001b[0m \u001b[38;5;28;01mfor\u001b[39;00m i \u001b[38;5;129;01min\u001b[39;00m tub:\n\u001b[1;32m----> 5\u001b[0m     dic\u001b[38;5;241m.\u001b[39mappend(i[\u001b[38;5;241m0\u001b[39m],\u001b[38;5;124m'\u001b[39m\u001b[38;5;124ms\u001b[39m\u001b[38;5;124m'\u001b[39m)\n\u001b[0;32m      6\u001b[0m \u001b[38;5;28;01mreturn\u001b[39;00m dic\n",
      "\u001b[1;31mAttributeError\u001b[0m: 'dict' object has no attribute 'append'"
     ]
    }
   ],
   "source": [
    "## 13. Write a Python program to convert a tuple to a dictionary.\n",
    "def convTubtoDic(tub):\n",
    "    dic = {}\n",
    "    for i in tub:\n",
    "        dic.append(i[0],'s')\n",
    "    return dic\n",
    "tub = ((1, 'apple'), (2, 'banana'))\n",
    "print(convTubtoDic(tub))"
   ]
  },
  {
   "cell_type": "code",
   "execution_count": 69,
   "id": "3c9ff944-4fbf-40ec-bfcc-0ca2b7ae487b",
   "metadata": {
    "tags": []
   },
   "outputs": [
    {
     "name": "stdout",
     "output_type": "stream",
     "text": [
      "[1, 2] ['apple', 'banana']\n"
     ]
    }
   ],
   "source": [
    "## 14. Write a Python program to unzip a list of tuples into individual lists.\n",
    "lst = [(1, 'apple'), (2, 'banana')]\n",
    "\n",
    "# Method 1: Using a loop\n",
    "unzipped_lst1 = []\n",
    "unzipped_lst2 = []\n",
    "\n",
    "for i in lst:\n",
    "    unzipped_lst1.append(i[0])\n",
    "    unzipped_lst2.append(i[1])\n",
    "\n",
    "print(unzipped_lst1,unzipped_lst2)"
   ]
  },
  {
   "cell_type": "code",
   "execution_count": 84,
   "id": "1d349503-8667-42b3-9e99-104691a5c5b9",
   "metadata": {
    "tags": []
   },
   "outputs": [
    {
     "name": "stdout",
     "output_type": "stream",
     "text": [
      "5\n"
     ]
    }
   ],
   "source": [
    "## 15. Write a Python program to reverse a tuple.\n",
    "def rev_tub(tub):\n",
    "    new_tub = ()\n",
    "    for i in tub:\n",
    "         new_tub = (i)\n",
    "    return new_tub    \n",
    "tub = (1,2,3,4,5)\n",
    "print(rev_tub(tub))"
   ]
  },
  {
   "cell_type": "code",
   "execution_count": 97,
   "id": "fed2a2d2-f3f9-4783-81dc-20bd57c75402",
   "metadata": {
    "tags": []
   },
   "outputs": [
    {
     "name": "stdout",
     "output_type": "stream",
     "text": [
      "{'a': 1, 'b': 2, 'c': 3}\n"
     ]
    }
   ],
   "source": [
    "# 16. Write a Python program to convert a list of tuples into a dictionary.\n",
    "lst = [(\"a\", 1), (\"b\", 2), (\"c\", 3)]\n",
    "\n",
    "dic = {}\n",
    "for i in lst:\n",
    "    key, value = i\n",
    "    dic[key] = value\n",
    "    \n",
    "print(dic)    \n"
   ]
  },
  {
   "cell_type": "code",
   "execution_count": 86,
   "id": "08c7a56c-cb60-4c30-af00-c23f0fed86e8",
   "metadata": {
    "tags": []
   },
   "outputs": [],
   "source": [
    "## 17. Write a Python program to replace the last value of tuples in a list.\n",
    "##Sample list: [(10, 20, 40), (40, 50, 60), (70, 80, 90)] Expected Output: [(10, 20, 100), (40, 50, 100), (70, 80, 100)]"
   ]
  },
  {
   "cell_type": "code",
   "execution_count": null,
   "id": "d0af9bd3-5da2-48cc-a02c-c9a2b03ec218",
   "metadata": {},
   "outputs": [],
   "source": [
    "## Write a Python program to sort a tuple by its float element."
   ]
  }
 ],
 "metadata": {
  "kernelspec": {
   "display_name": "Python 3 (ipykernel)",
   "language": "python",
   "name": "python3"
  },
  "language_info": {
   "codemirror_mode": {
    "name": "ipython",
    "version": 3
   },
   "file_extension": ".py",
   "mimetype": "text/x-python",
   "name": "python",
   "nbconvert_exporter": "python",
   "pygments_lexer": "ipython3",
   "version": "3.11.4"
  }
 },
 "nbformat": 4,
 "nbformat_minor": 5
}
