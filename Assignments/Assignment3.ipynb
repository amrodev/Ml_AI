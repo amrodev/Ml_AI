{
 "cells": [
  {
   "cell_type": "code",
   "execution_count": 2,
   "id": "c7bf4bcd-1849-489b-877c-d4d8b125cf5e",
   "metadata": {
    "tags": []
   },
   "outputs": [
    {
     "name": "stdout",
     "output_type": "stream",
     "text": [
      "this: 2\n",
      "is: 2\n",
      "my: 1\n",
      "code: 3\n",
      "me: 1\n",
      "amr: 1\n",
      "i: 2\n",
      "love: 1\n",
      "like: 1\n",
      "to: 1\n",
      "with: 1\n",
      "python: 1\n"
     ]
    }
   ],
   "source": [
    "# Write a Python program to find all the unique words and count the frequency of occurrence from a given list of strings.\n",
    "\n",
    "def count_word(strings):\n",
    "    word_frequency = {}\n",
    "\n",
    "    for string in strings:\n",
    "        words = string.split()\n",
    "        for word in words:\n",
    "            if word in word_frequency:\n",
    "                word_frequency[word] += 1\n",
    "            else:\n",
    "                word_frequency[word] = 1\n",
    "\n",
    "    return word_frequency\n",
    "\n",
    "strings = [\n",
    "    \"this is my code\",\n",
    "    \"this is me amr\",\n",
    "    \"i love code\",\n",
    "    \"i like to code with python \",\n",
    "]\n",
    "\n",
    "result = count_word(strings)\n",
    "for word, frequency in result.items():\n",
    "    print(f\"{word}: {frequency}\")"
   ]
  },
  {
   "cell_type": "code",
   "execution_count": 22,
   "id": "142b1592-c064-48c6-87e0-808662acffe6",
   "metadata": {
    "tags": []
   },
   "outputs": [
    {
     "name": "stdout",
     "output_type": "stream",
     "text": [
      "sum of 4 and 5 = 9\n",
      "sum of 2 and 7 = 9\n",
      "sum of 5 and 4 = 9\n",
      "sum of 1 and 8 = 9\n",
      "sum of 8 and 1 = 9\n",
      "sum of 7 and 2 = 9\n",
      "sum of 6 and 3 = 9\n"
     ]
    }
   ],
   "source": [
    "# Write a Python program that finds all pairs of elements in a list whose sum is equal to a given value.\n",
    "def find_sum(lst,target):\n",
    "    new_lst = []\n",
    "    for i in lst:\n",
    "        result = target-i\n",
    "        new_lst.append(result)\n",
    "    return new_lst    \n",
    "\n",
    "lst = [4,2,5,1,8,7,6]\n",
    "target = 9\n",
    "new_lst = find_sum(lst,target)\n",
    "for i in lst:\n",
    "    for x in new_lst:\n",
    "        if x + i ==target:\n",
    "            print(f\"sum of {i} and {x} = {target}\")\n",
    "            break\n"
   ]
  },
  {
   "cell_type": "code",
   "execution_count": 53,
   "id": "5b9abc84-5922-477a-994b-9027968caa85",
   "metadata": {
    "tags": []
   },
   "outputs": [
    {
     "name": "stdout",
     "output_type": "stream",
     "text": [
      "[]\n"
     ]
    }
   ],
   "source": [
    "# Write a Python program to find the two numbers whose product is maximum among all the pairs in a given list of numbers\n",
    "def find_max(input_list):\n",
    "    max_num = 0\n",
    "    ne_lst = input_list\n",
    "    result = []\n",
    "    for i in input_list:\n",
    "        for x in ne_lst:\n",
    "            product = i*x\n",
    "            if max_num > product:\n",
    "                print (f\"{i}*{x} = {i*x}\")\n",
    "                max_num = i*x\n",
    "                result[0] = i\n",
    "                result[1] = x\n",
    "                \n",
    "    return result\n",
    "input_list = [1, 3, 5, 8, 9,6]\n",
    "res = find_max(input_list)\n",
    "print(res)"
   ]
  },
  {
   "cell_type": "code",
   "execution_count": 61,
   "id": "3b016e84-cb54-499d-b228-692349291d44",
   "metadata": {
    "tags": []
   },
   "outputs": [
    {
     "name": "stdout",
     "output_type": "stream",
     "text": [
      "17 is a prime number.\n"
     ]
    }
   ],
   "source": [
    "# Write a Python function that takes a number as a parameter and checks whether the number is prime or not.\n",
    "def is_prime(number):\n",
    "    for i in range(2, int(number ** 0.5) + 1):\n",
    "        if number % i == 0:\n",
    "            return False \n",
    "    return True \n",
    "\n",
    "num = 17\n",
    "if is_prime(num):\n",
    "    print(f\"{num} is a prime number.\")\n",
    "else:\n",
    "    print(f\"{num} is not a prime number.\")"
   ]
  },
  {
   "cell_type": "code",
   "execution_count": 64,
   "id": "17b8b842-7661-488d-9d0c-b905e7b420e2",
   "metadata": {
    "tags": []
   },
   "outputs": [
    {
     "name": "stdout",
     "output_type": "stream",
     "text": [
      "4 is even\n",
      "2 is even\n",
      "8 is even\n"
     ]
    }
   ],
   "source": [
    "# Write a Python function to print the even numbers from a given list.\n",
    "def is_even(lst):\n",
    "    for i in lst:\n",
    "        if i % 2 == 0:\n",
    "            print(f\"{i} is even\")\n",
    "            \n",
    "lst = [4,2,5,1,8,7,3]     \n",
    "is_even(lst)"
   ]
  },
  {
   "cell_type": "code",
   "execution_count": 72,
   "id": "693735e8-3f70-4049-aed3-5ea41872c6ef",
   "metadata": {
    "tags": []
   },
   "outputs": [
    {
     "name": "stdout",
     "output_type": "stream",
     "text": [
      "['world', 'Hello']\n"
     ]
    }
   ],
   "source": [
    "# Write a function that will take a given string and reverse the order of words.\n",
    "# “Hello world” →”world Hello”\n",
    "\n",
    "def reverse(st):\n",
    "    words = st.split()\n",
    "    reversed_words = words[::-1]\n",
    "    print(reversed_words)\n",
    "\n",
    "st = \"Hello world\"\n",
    "reverse(st)"
   ]
  },
  {
   "cell_type": "code",
   "execution_count": 76,
   "id": "19720e0e-09de-456c-97ee-f6969bdb5692",
   "metadata": {
    "tags": []
   },
   "outputs": [
    {
     "name": "stdout",
     "output_type": "stream",
     "text": [
      "-5 is not a palindrome.\n"
     ]
    }
   ],
   "source": [
    "def is_palindrome(x):\n",
    "    str_x = str(x)\n",
    "    return str_x == str_x[::-1]\n",
    "\n",
    "num = -5 \n",
    "if is_palindrome(num):\n",
    "    print(f\"{num} is a palindrome.\")\n",
    "else:\n",
    "    print(f\"{num} is not a palindrome.\")"
   ]
  },
  {
   "cell_type": "code",
   "execution_count": 87,
   "id": "7c99b627-4a13-44ae-b2f4-0009d40f0aac",
   "metadata": {
    "tags": []
   },
   "outputs": [
    {
     "name": "stdout",
     "output_type": "stream",
     "text": [
      "'alla' is a palindrome.\n"
     ]
    }
   ],
   "source": [
    "##Write a Python function that checks whether a passed string is a palindrome or not.\n",
    "def is_palindrome(word):\n",
    "    return word == word[::-1]\n",
    "\n",
    "word = \"alla\"\n",
    "result = is_palindrome(word)\n",
    "\n",
    "if result:\n",
    "    print(f\"'{word}' is a palindrome.\")\n",
    "else:\n",
    "    print(f\"'{word}' is not a palindrome.\")"
   ]
  },
  {
   "cell_type": "code",
   "execution_count": 20,
   "id": "4182b19f-9d9e-4b7a-ae2c-0fb434d9b24e",
   "metadata": {
    "tags": []
   },
   "outputs": [
    {
     "name": "stdout",
     "output_type": "stream",
     "text": [
      "[1, 4, 9, 16, 25, 36]\n"
     ]
    }
   ],
   "source": [
    "# Write a Python function to create and print a list where the values are the squares of numbers between 1 and 30 (both included).\n",
    "def sq(num):\n",
    "     return num **2\n",
    "\n",
    "ls = [1,2,3,4,5,6]\n",
    "new_ls = list(map(sq,ls))\n",
    "print(new_ls)"
   ]
  },
  {
   "cell_type": "code",
   "execution_count": 79,
   "id": "5b7bb144-97f0-411c-afd9-29523e3732d6",
   "metadata": {
    "tags": []
   },
   "outputs": [],
   "source": [
    "#Write a Python function to generate all permutations of a list."
   ]
  },
  {
   "cell_type": "code",
   "execution_count": 82,
   "id": "d56c6206-05ca-4baf-ac40-4a03aa58897e",
   "metadata": {
    "tags": []
   },
   "outputs": [
    {
     "name": "stdout",
     "output_type": "stream",
     "text": [
      "this is func1\n",
      "this is func2\n"
     ]
    }
   ],
   "source": [
    "# Write a Python program to access a function inside a function.\n",
    "def func1():\n",
    "    print(\"this is func1\")\n",
    "    def func2():\n",
    "        print(\"this is func2\")\n",
    "    func2()\n",
    "\n",
    "func1()"
   ]
  },
  {
   "cell_type": "code",
   "execution_count": null,
   "id": "19bc9762-a0b7-4e15-a833-0abac7235881",
   "metadata": {},
   "outputs": [],
   "source": []
  }
 ],
 "metadata": {
  "kernelspec": {
   "display_name": "Python 3 (ipykernel)",
   "language": "python",
   "name": "python3"
  },
  "language_info": {
   "codemirror_mode": {
    "name": "ipython",
    "version": 3
   },
   "file_extension": ".py",
   "mimetype": "text/x-python",
   "name": "python",
   "nbconvert_exporter": "python",
   "pygments_lexer": "ipython3",
   "version": "3.11.4"
  }
 },
 "nbformat": 4,
 "nbformat_minor": 5
}
