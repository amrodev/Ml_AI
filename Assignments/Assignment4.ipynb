{
 "cells": [
  {
   "cell_type": "code",
   "execution_count": 15,
   "id": "54ecc487-af57-40c2-84dd-c89dbddcf28a",
   "metadata": {
    "tags": []
   },
   "outputs": [
    {
     "name": "stdout",
     "output_type": "stream",
     "text": [
      "Length: 3\n",
      "Width: 5\n",
      "Area: 15\n"
     ]
    },
    {
     "data": {
      "text/plain": [
       "30"
      ]
     },
     "execution_count": 15,
     "metadata": {},
     "output_type": "execute_result"
    }
   ],
   "source": [
    "# Task 1\n",
    "# 1. Write a Rectangle class in Python language, allowing you to build a rectangle with length and width attributes. \n",
    "# 2. Create a Perimeter() method to calculate the perimeter of the rectangle and a Area() method to calculate \n",
    "#    the area of the rectangle. \n",
    "# 3. Create a method display() that display the length, width, perimeter and area of an object created using an \n",
    "#    instantiation on rectangle class. \n",
    "# 4. Create a Parallelepipede child class inheriting from the Rectangle class and with a height attribute and \n",
    "#    another Volume() method to calculate the volume of the Parallelepiped.\n",
    "class Rectangle:\n",
    "    def __init__(self, length, width):\n",
    "        self.length = length\n",
    "        self.width = width\n",
    "\n",
    "    def area(self):\n",
    "        self.area =  self.length * self.width\n",
    "\n",
    "    def display(self):\n",
    "        print(f\"Length: {self.length}\")\n",
    "        print(f\"Width: {self.width}\")\n",
    "        print(f\"Area: {self.area}\")\n",
    "\n",
    "class Parallelepipede(Rectangle):\n",
    "    \n",
    "    def __init__(self, length, width,height):\n",
    "        super().__init__(length, width)\n",
    "        self.height = height\n",
    "    \n",
    "    def Volume(self):\n",
    "        return self.length * self.width * self.height\n",
    "        \n",
    "rec = Parallelepipede(3,5,2)  \n",
    "rec.area()\n",
    "rec.display()\n",
    "rec.Volume()"
   ]
  },
  {
   "cell_type": "markdown",
   "id": "a189fc15-87c0-408d-84f2-f94249f34d09",
   "metadata": {},
   "source": [
    "## Task 2: Person class and child Student class"
   ]
  },
  {
   "cell_type": "code",
   "execution_count": 16,
   "id": "d7668871-b345-4c61-96aa-bbaa5fd147c4",
   "metadata": {
    "tags": []
   },
   "outputs": [],
   "source": [
    "# Create a Python class Person with attributes: name and age of type string.\n",
    "# 1. Create a display() method that displays the name and age of an object created via the Person class. \n",
    "# 2. Create a child class Student which inherits from the Person class and which also has a section attribute. \n",
    "# 3. Create a method displayStudent() that displays the name, age and section of an object created via the Student class. \n",
    "# 4. Create a student object via an instantiation on the Student class and then test the displayStudent method."
   ]
  },
  {
   "cell_type": "code",
   "execution_count": 27,
   "id": "aaec49a6-c1df-4d2a-ac58-d3b190402c74",
   "metadata": {
    "tags": []
   },
   "outputs": [],
   "source": [
    "class Person:\n",
    "    \n",
    "    def __init__ (self,name,age):\n",
    "        self.name = name\n",
    "        self.age = age\n",
    "        \n",
    "    def  display(self):\n",
    "        print(f\"name is {name} and age is {age}\")\n",
    "        \n",
    "class Student:   \n",
    "    \n",
    "    def __init__ (self,name,age,section):\n",
    "        Person.__init__(self,name,age)\n",
    "        self.section = section\n",
    "        \n",
    "    def displayStudent(self):\n",
    "        print(f\"Student Name is {self.name} age is {self.age} and is in section {self.section}\")\n",
    "        \n"
   ]
  },
  {
   "cell_type": "code",
   "execution_count": 29,
   "id": "ed29783d-7a64-4217-b650-24a01d9e254e",
   "metadata": {
    "tags": []
   },
   "outputs": [
    {
     "name": "stdout",
     "output_type": "stream",
     "text": [
      "Student Name is amr age is 5 and is in section AB\n"
     ]
    }
   ],
   "source": [
    "st= Student(\"amr\",5,\"AB\")\n",
    "st.displayStudent()"
   ]
  },
  {
   "cell_type": "markdown",
   "id": "027569bb-1e89-47f2-90de-6be01349a073",
   "metadata": {},
   "source": [
    "## Task 3. Computation class"
   ]
  },
  {
   "cell_type": "code",
   "execution_count": 31,
   "id": "2f1564cc-cd01-48f4-af8c-c030a1ac5092",
   "metadata": {
    "tags": []
   },
   "outputs": [],
   "source": [
    "# 1. Create a Coputation class with a default constructor (without parameters) allowing to perform \n",
    "#    various calculations on integers numbers. \n",
    "# 2. Create a method called Factorial() which allows to calculate the factorial of an integer. Test the method by instantiating \n",
    "#    the class. \n",
    "# 3. Create a method called Sum() allowing to calculate the sum of the first n integers 1 + 2 + 3 + .. + n. Test this method. \n",
    "# 4. Create a method called testPrim() in the Calculation class to test the primality of a given integer. Test this method. \n",
    "# 5. Create a method called testPrims() allowing to test if two numbers are prime between them. \n",
    "# 6. Create a tableMult() method which creates and displays the multiplication table of a given integer. \n",
    "#    Then create an allTablesMult() method to display all the integer multiplication tables 1, 2, 3, ..., 9. \n",
    "# 7. Create a static listDiv() method that gets all the divisors of a given integer on new list called Ldiv. \n",
    "#    Create another listDivPrim() method that gets all the prime divisors of a given integer."
   ]
  },
  {
   "cell_type": "code",
   "execution_count": 62,
   "id": "9ba9b90f-8d5a-4197-bd7c-e35f40c4490a",
   "metadata": {
    "tags": []
   },
   "outputs": [],
   "source": [
    "class Coputation:\n",
    "    \n",
    "    def __init__ (self):\n",
    "        pass\n",
    "    \n",
    "    @staticmethod\n",
    "    def Factorial(number):\n",
    "        if number == 0 or number == 1:\n",
    "            return 1\n",
    "        else:\n",
    "            result = 1\n",
    "            for i in range(2, number + 1):\n",
    "                result *= i\n",
    "            return result\n",
    "    \n",
    "    @staticmethod\n",
    "    def Sum(number):\n",
    "        total = 0\n",
    "        for i in range(0,number+1):\n",
    "            total += i\n",
    "        return total   \n",
    "    \n",
    "    @staticmethod\n",
    "    def testPrim(number):\n",
    "        if number <= 1:\n",
    "            return False   \n",
    "        if number == 2:\n",
    "            return True\n",
    "        if number % 2 == 0:\n",
    "            return False  \n",
    "   \n",
    "    @staticmethod\n",
    "    def testPrims(number1,number2):\n",
    "        if number1 > number2:\n",
    "            print(\"Error\")\n",
    "        else:\n",
    "            for i in range(number1,number2):\n",
    "                if number == 2:\n",
    "                    return True\n",
    "                if number % 2 == 0:\n",
    "                    return False  \n",
    "   \n",
    "    @staticmethod\n",
    "    def tableMult(number,max_range):\n",
    "        if number == 0 :\n",
    "            return \"Error\"\n",
    "        else:\n",
    "            for i in range (number,max_range+1):\n",
    "                result = number * i\n",
    "                print(f\"{number} x {i} = {result}\")"
   ]
  },
  {
   "cell_type": "code",
   "execution_count": 67,
   "id": "8eb1a302-0d96-41b1-ad50-2762097dbca9",
   "metadata": {
    "tags": []
   },
   "outputs": [
    {
     "name": "stdout",
     "output_type": "stream",
     "text": [
      "NotPrime\n",
      "1 x 1 = 1\n",
      "1 x 2 = 2\n",
      "1 x 3 = 3\n",
      "1 x 4 = 4\n",
      "1 x 5 = 5\n",
      "1 x 6 = 6\n",
      "1 x 7 = 7\n",
      "1 x 8 = 8\n",
      "1 x 9 = 9\n",
      "1 x 10 = 10\n"
     ]
    }
   ],
   "source": [
    "cp = Coputation()\n",
    "cp.Factorial(5)\n",
    "cp.Sum(5)\n",
    "prime = cp.testPrim(5)\n",
    "if prime == True:\n",
    "    print(\"Prime\")\n",
    "else:\n",
    "    print(\"NotPrime\")\n",
    "cp.tableMult(1,10)"
   ]
  }
 ],
 "metadata": {
  "kernelspec": {
   "display_name": "Python 3 (ipykernel)",
   "language": "python",
   "name": "python3"
  },
  "language_info": {
   "codemirror_mode": {
    "name": "ipython",
    "version": 3
   },
   "file_extension": ".py",
   "mimetype": "text/x-python",
   "name": "python",
   "nbconvert_exporter": "python",
   "pygments_lexer": "ipython3",
   "version": "3.11.4"
  }
 },
 "nbformat": 4,
 "nbformat_minor": 5
}
