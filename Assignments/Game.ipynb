{
 "cells": [
  {
   "cell_type": "code",
   "execution_count": 32,
   "id": "b262d769-e164-474c-8aff-82e86fdc8a67",
   "metadata": {
    "tags": []
   },
   "outputs": [],
   "source": [
    "# Rock beats scissors and loses to paper\n",
    "# Paper beats rock, but loses to scissors\n",
    "# Scissors beat paper but loses to rock\n",
    "# same are loss\n",
    "import random\n",
    "\n",
    "class Game:\n",
    "    \n",
    "    def __init__(self,player_name,target_score):\n",
    "        self.player_name    = player_name\n",
    "        self.target_score   = target_score\n",
    "        self.computer_score = 0\n",
    "        self.player_score   = 0\n",
    "        self.lst = [\"rock\",\"scissors\",\"paper\"]\n",
    "        \n",
    "    def computer_random_choice(self): \n",
    "        return  random.choice(self.lst)\n",
    "    \n",
    "    def play(self,computer_choice,player_choice):\n",
    "        if player_choice == 'rock':\n",
    "            if computer_choice == 'rock':\n",
    "                print(\"No One Win\")\n",
    "            elif computer_choice == 'scissors':\n",
    "                self.player_score +=1\n",
    "                print(f\"{self.player_name} win\")\n",
    "            elif computer_choice == 'paper':\n",
    "                self.computer_score +=1\n",
    "                print(f\"Computer win\")\n",
    "        elif  player_choice == 'paper':\n",
    "            if computer_choice == 'paper':\n",
    "                print(\"No One Win\")\n",
    "            elif computer_choice == 'rock':\n",
    "                self.player_score +=1\n",
    "                print(f\"{slef.player_name} win\")\n",
    "            elif  computer_choice == 'scissors':\n",
    "                self.computer_score +=1\n",
    "                print(f\"Computer win\")\n",
    "        elif  player_choice == 'scissors':\n",
    "            if computer_choice == 'scissors':\n",
    "                print(\"No One Win\")\n",
    "            elif computer_choice == 'paper':\n",
    "                self.player_score +=1\n",
    "                print(f\"{slef.player_name} win\")\n",
    "            elif  computer_choice == 'rock':\n",
    "                self.computer_score +=1\n",
    "                print(f\"Computer win\")\n",
    "else:\n",
    "    print(\"Thak you for playing\")"
   ]
  },
  {
   "cell_type": "code",
   "execution_count": 49,
   "id": "b67693df-4fc6-438e-aeb6-f3630ea67876",
   "metadata": {
    "tags": []
   },
   "outputs": [
    {
     "name": "stdout",
     "output_type": "stream",
     "text": [
      "score :  0\n",
      "Computer Score 0 user score is 0\n"
     ]
    },
    {
     "name": "stdin",
     "output_type": "stream",
     "text": [
      "Enter your Choice please :  rock\n"
     ]
    },
    {
     "name": "stdout",
     "output_type": "stream",
     "text": [
      "Computer choice is scissors\n",
      "Amr win\n",
      "score :  1\n",
      "Computer Score 0 user score is 1\n"
     ]
    },
    {
     "name": "stdin",
     "output_type": "stream",
     "text": [
      "Enter your Choice please :  rock\n"
     ]
    },
    {
     "name": "stdout",
     "output_type": "stream",
     "text": [
      "Computer choice is paper\n",
      "Computer win\n",
      "score :  2\n",
      "Computer Score 1 user score is 1\n"
     ]
    },
    {
     "name": "stdin",
     "output_type": "stream",
     "text": [
      "Enter your Choice please :  rock\n"
     ]
    },
    {
     "name": "stdout",
     "output_type": "stream",
     "text": [
      "Computer choice is scissors\n",
      "Amr win\n",
      "Thank you for playing\n"
     ]
    }
   ],
   "source": [
    "target = 3\n",
    "game = Game(\"Amr\",target)\n",
    "score = 0 \n",
    "while score < target:\n",
    "    print(\"score : \",score)\n",
    "    print(f\"Computer Score {game.computer_score} user score is {game.player_score}\")\n",
    "    computer_choice = game.computer_random_choice()\n",
    "    player_choice = input(\"Enter your Choice please : \")\n",
    "    print(f\"Computer choice is {computer_choice}\")\n",
    "    game.play(computer_choice,player_choice)\n",
    "    score +=1\n",
    "else:\n",
    "    print(\"Thank you for playing\")"
   ]
  },
  {
   "cell_type": "code",
   "execution_count": null,
   "id": "70568b71-84f7-4c0a-a550-51b9bbf77f8f",
   "metadata": {},
   "outputs": [],
   "source": []
  }
 ],
 "metadata": {
  "kernelspec": {
   "display_name": "Python 3 (ipykernel)",
   "language": "python",
   "name": "python3"
  },
  "language_info": {
   "codemirror_mode": {
    "name": "ipython",
    "version": 3
   },
   "file_extension": ".py",
   "mimetype": "text/x-python",
   "name": "python",
   "nbconvert_exporter": "python",
   "pygments_lexer": "ipython3",
   "version": "3.11.4"
  }
 },
 "nbformat": 4,
 "nbformat_minor": 5
}
