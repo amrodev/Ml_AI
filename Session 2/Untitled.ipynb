{
 "cells": [
  {
   "cell_type": "code",
   "execution_count": 1,
   "id": "94e60082-2561-4ff9-9883-65a766d6715e",
   "metadata": {
    "tags": []
   },
   "outputs": [
    {
     "name": "stdout",
     "output_type": "stream",
     "text": [
      "Hi\n"
     ]
    }
   ],
   "source": [
    "print(\"Hi\")"
   ]
  },
  {
   "cell_type": "code",
   "execution_count": 2,
   "id": "0b8f08ff-186d-4c0a-aeed-e570a8ac8908",
   "metadata": {
    "tags": []
   },
   "outputs": [],
   "source": [
    "x = \"my name is amr\""
   ]
  },
  {
   "cell_type": "code",
   "execution_count": 7,
   "id": "b4b85d18-8641-4e09-9eb5-b6d684af7268",
   "metadata": {
    "tags": []
   },
   "outputs": [
    {
     "name": "stdout",
     "output_type": "stream",
     "text": [
      "my name is amr \n"
     ]
    }
   ],
   "source": [
    "name = \"amr\"\n",
    "age = 35\n",
    "add = \"cairo\"\n",
    "\n",
    "\n",
    "print(\"my name is {} \".format(name))"
   ]
  },
  {
   "cell_type": "code",
   "execution_count": 8,
   "id": "bc39cae3-27ea-45f8-9f6c-4e649368de0d",
   "metadata": {
    "tags": []
   },
   "outputs": [],
   "source": [
    "dic = {\"name\" : \"amr\"}"
   ]
  },
  {
   "cell_type": "code",
   "execution_count": 11,
   "id": "01ee0e3e-6091-4bad-9850-c76e75fb7175",
   "metadata": {
    "tags": []
   },
   "outputs": [
    {
     "ename": "NameError",
     "evalue": "name 'hany' is not defined",
     "output_type": "error",
     "traceback": [
      "\u001b[1;31m---------------------------------------------------------------------------\u001b[0m",
      "\u001b[1;31mNameError\u001b[0m                                 Traceback (most recent call last)",
      "Cell \u001b[1;32mIn[11], line 1\u001b[0m\n\u001b[1;32m----> 1\u001b[0m dic[\u001b[38;5;124m\"\u001b[39m\u001b[38;5;124mname\u001b[39m\u001b[38;5;124m\"\u001b[39m] \u001b[38;5;241m=\u001b[39m hany\n",
      "\u001b[1;31mNameError\u001b[0m: name 'hany' is not defined"
     ]
    }
   ],
   "source": [
    "dic[\"name\"] = hany\n"
   ]
  },
  {
   "cell_type": "code",
   "execution_count": 12,
   "id": "b76b7210-707a-4224-9eec-1509ef2761ae",
   "metadata": {
    "tags": []
   },
   "outputs": [],
   "source": [
    "x=6"
   ]
  },
  {
   "cell_type": "code",
   "execution_count": 14,
   "id": "3038e875-835b-4bdb-aadf-204aed8a6f1e",
   "metadata": {
    "tags": []
   },
   "outputs": [
    {
     "name": "stdout",
     "output_type": "stream",
     "text": [
      "No\n"
     ]
    }
   ],
   "source": [
    "if x % 2:\n",
    "    print(\"yes\")\n",
    "else:\n",
    "    print(\"No\")"
   ]
  },
  {
   "cell_type": "code",
   "execution_count": 16,
   "id": "e1005224-e03c-4ad8-b990-448b4e5bdd84",
   "metadata": {
    "tags": []
   },
   "outputs": [
    {
     "name": "stdout",
     "output_type": "stream",
     "text": [
      "[0, 1, 2, 3, 4]\n"
     ]
    }
   ],
   "source": [
    "lst = []\n",
    "for i in range(5):\n",
    "    lst.append(i)\n",
    "    \n",
    "print(lst)    "
   ]
  },
  {
   "cell_type": "code",
   "execution_count": 1,
   "id": "a9544341-773f-4527-aef1-41dbfa9a6cb2",
   "metadata": {},
   "outputs": [
    {
     "data": {
      "text/plain": [
       "18"
      ]
     },
     "execution_count": 1,
     "metadata": {},
     "output_type": "execute_result"
    }
   ],
   "source": [
    "x = \"hi this is my name\"\n",
    "len(x)"
   ]
  },
  {
   "cell_type": "code",
   "execution_count": 3,
   "id": "6145417a-1c98-4d3b-9239-17ae96e2d7dd",
   "metadata": {
    "tags": []
   },
   "outputs": [
    {
     "data": {
      "text/plain": [
       "'h hsi y'"
      ]
     },
     "execution_count": 3,
     "metadata": {},
     "output_type": "execute_result"
    }
   ],
   "source": [
    "x[0:14:2]"
   ]
  },
  {
   "cell_type": "code",
   "execution_count": 9,
   "id": "c46e39b5-c68b-41ba-a4df-b20038a413ef",
   "metadata": {
    "tags": []
   },
   "outputs": [
    {
     "data": {
      "text/plain": [
       "1"
      ]
     },
     "execution_count": 9,
     "metadata": {},
     "output_type": "execute_result"
    }
   ],
   "source": [
    "ls = [1,5,5,1,5,2,1,2,1,8,1,9,7]\n",
    "ls.count(1)\n",
    "ls.index(5)"
   ]
  },
  {
   "cell_type": "code",
   "execution_count": 10,
   "id": "5bbf7a5c-6257-412e-8308-cc849f77ae80",
   "metadata": {
    "tags": []
   },
   "outputs": [
    {
     "data": {
      "text/plain": [
       "[1, 5, 5, 1, 5, 2, 1, 2, 111, 1, 8, 1, 9, 7]"
      ]
     },
     "execution_count": 10,
     "metadata": {},
     "output_type": "execute_result"
    }
   ],
   "source": [
    "ls.insert(8,111)\n",
    "ls"
   ]
  },
  {
   "cell_type": "code",
   "execution_count": 12,
   "id": "1d9d431c-f771-4b31-a5da-56a46193c999",
   "metadata": {
    "tags": []
   },
   "outputs": [
    {
     "data": {
      "text/plain": [
       "[1, 2, 11, 3]"
      ]
     },
     "execution_count": 12,
     "metadata": {},
     "output_type": "execute_result"
    }
   ],
   "source": [
    "ls2 = [1,2,3]\n",
    "ls2.insert(2,11)\n",
    "ls2"
   ]
  },
  {
   "cell_type": "code",
   "execution_count": 13,
   "id": "96fb739c-0186-4fc0-a5a9-169786a36c82",
   "metadata": {
    "tags": []
   },
   "outputs": [
    {
     "data": {
      "text/plain": [
       "[1, 2, 11, 14, 3]"
      ]
     },
     "execution_count": 13,
     "metadata": {},
     "output_type": "execute_result"
    }
   ],
   "source": [
    "ls2.insert(3,14)\n",
    "ls2"
   ]
  },
  {
   "cell_type": "code",
   "execution_count": 16,
   "id": "be05f299-c66f-48cb-bf00-645fc1bac620",
   "metadata": {
    "tags": []
   },
   "outputs": [
    {
     "name": "stdout",
     "output_type": "stream",
     "text": [
      "2\n"
     ]
    }
   ],
   "source": [
    "print(8 // 3)"
   ]
  },
  {
   "cell_type": "code",
   "execution_count": null,
   "id": "c1cca7fe-a4f5-475a-994b-d0aeb0964c94",
   "metadata": {
    "tags": []
   },
   "outputs": [],
   "source": []
  },
  {
   "cell_type": "code",
   "execution_count": null,
   "id": "906c11a0-ad44-4393-9f06-4a0b7f886fde",
   "metadata": {},
   "outputs": [],
   "source": []
  },
  {
   "cell_type": "code",
   "execution_count": 45,
   "id": "7a82f47f-1da9-40bb-9c25-492ea7a93d39",
   "metadata": {
    "tags": []
   },
   "outputs": [
    {
     "name": "stdout",
     "output_type": "stream",
     "text": [
      "Guess the characters\n",
      "mathematics\n",
      "['_', '_', '_', '_', '_', '_', '_', '_', '_', '_', '_']\n"
     ]
    },
    {
     "name": "stdin",
     "output_type": "stream",
     "text": [
      "guss the letter:  m\n",
      "guss the letter:  t\n",
      "guss the letter:  h\n",
      "guss the letter:  c\n",
      "guss the letter:  s\n",
      "guss the letter:  h\n",
      "guss the letter:  r\n",
      "guss the letter:  e\n",
      "guss the letter:  w\n",
      "guss the letter:  y\n",
      "guss the letter:  q\n",
      "guss the letter:  e\n"
     ]
    },
    {
     "name": "stdout",
     "output_type": "stream",
     "text": [
      "['m', '_', 't', 'h', 'e', 'm', '_', 't', '_', 'c', 's']\n"
     ]
    }
   ],
   "source": [
    "import random\n",
    "words = ['rainbow', 'computer', 'science', 'programming',\n",
    "         'python', 'mathematics', 'player', 'condition',\n",
    "         'reverse', 'water', 'board', 'geeks']\n",
    " \n",
    "word = random.choice(words)\n",
    "print(\"Guess the characters\")\n",
    "guesses = ''\n",
    "turns = 12\n",
    "display = []\n",
    "for item in word:\n",
    "    display.append('_')\n",
    "print(word)    \n",
    "print(display)    \n",
    "while turns > 0:\n",
    "    \n",
    "    char = input(\"guss the letter: \")\n",
    "    for i in range(len(word)):\n",
    "        if char == word[i]:\n",
    "            display[i] = char\n",
    "        \n",
    "    turns -=1  \n",
    "print(display)     "
   ]
  },
  {
   "cell_type": "code",
   "execution_count": null,
   "id": "3fc6df6d-6b4d-4f94-ac37-434e8d9bfcc2",
   "metadata": {},
   "outputs": [],
   "source": []
  },
  {
   "cell_type": "code",
   "execution_count": null,
   "id": "bc07b313-afc1-4f9d-b8c6-984cc5b2bb80",
   "metadata": {},
   "outputs": [],
   "source": []
  },
  {
   "cell_type": "code",
   "execution_count": null,
   "id": "37ee1c8d-2ed5-49d9-8c62-32df94830ea2",
   "metadata": {},
   "outputs": [],
   "source": []
  }
 ],
 "metadata": {
  "kernelspec": {
   "display_name": "Python 3 (ipykernel)",
   "language": "python",
   "name": "python3"
  },
  "language_info": {
   "codemirror_mode": {
    "name": "ipython",
    "version": 3
   },
   "file_extension": ".py",
   "mimetype": "text/x-python",
   "name": "python",
   "nbconvert_exporter": "python",
   "pygments_lexer": "ipython3",
   "version": "3.11.4"
  }
 },
 "nbformat": 4,
 "nbformat_minor": 5
}
