{
 "cells": [
  {
   "cell_type": "code",
   "execution_count": 2,
   "id": "992fcc08-4e66-4e82-a423-2b242772a308",
   "metadata": {
    "tags": []
   },
   "outputs": [
    {
     "name": "stdin",
     "output_type": "stream",
     "text": [
      "Enter Name:  rma\n"
     ]
    },
    {
     "name": "stdout",
     "output_type": "stream",
     "text": [
      "same\n"
     ]
    }
   ],
   "source": [
    "st_input = input(\"Enter Name: \")\n",
    "stx = 'amr'\n",
    "if stx == st_input[::-1]:\n",
    "    print('same')\n",
    "else:\n",
    "    print('Not the same')"
   ]
  },
  {
   "cell_type": "code",
   "execution_count": 18,
   "id": "8b61f6c2-4b2e-4c1e-bdc4-196fe46ae427",
   "metadata": {
    "tags": []
   },
   "outputs": [
    {
     "name": "stdin",
     "output_type": "stream",
     "text": [
      "enter num1 : 5\n",
      "enter method :  /\n",
      "enter num2 : 0\n"
     ]
    },
    {
     "name": "stdout",
     "output_type": "stream",
     "text": [
      "Invalid Argument can`t be 0\n"
     ]
    }
   ],
   "source": [
    "def calc(num1,num2,method):\n",
    "    if(method == '+'):\n",
    "        print(int(num1) + int(num2))\n",
    "    elif(method == '*'):\n",
    "        print(int(num1) * int(num2))\n",
    "    elif(method == '-'):\n",
    "        print(int(num1) - int(num2))\n",
    "    elif(method == '/'):\n",
    "        if(int(num2) ==  0):\n",
    "            print(\"Invalid Argument can`t be 0\")            \n",
    "        else:\n",
    "            print(int(num1) / int(num2))\n",
    "    else:\n",
    "        print(\"Error\")\n",
    "    \n",
    "num1 = input(\"enter num1 :\")\n",
    "method = input(\"enter method : \")\n",
    "num2 = input(\"enter num2 :\")\n",
    "calc(num1,num2,method)"
   ]
  },
  {
   "cell_type": "code",
   "execution_count": null,
   "id": "9c3f0974-6fa6-4837-acd8-7f4033eefd9f",
   "metadata": {},
   "outputs": [],
   "source": []
  }
 ],
 "metadata": {
  "kernelspec": {
   "display_name": "Python 3 (ipykernel)",
   "language": "python",
   "name": "python3"
  },
  "language_info": {
   "codemirror_mode": {
    "name": "ipython",
    "version": 3
   },
   "file_extension": ".py",
   "mimetype": "text/x-python",
   "name": "python",
   "nbconvert_exporter": "python",
   "pygments_lexer": "ipython3",
   "version": "3.11.4"
  }
 },
 "nbformat": 4,
 "nbformat_minor": 5
}
