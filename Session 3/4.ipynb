{
 "cells": [
  {
   "cell_type": "code",
   "execution_count": 17,
   "id": "447d9d70-5587-4286-bf38-29d4aab2732b",
   "metadata": {
    "tags": []
   },
   "outputs": [
    {
     "name": "stdout",
     "output_type": "stream",
     "text": [
      "average is : 5.75\n"
     ]
    }
   ],
   "source": [
    "def my_fun(lst):\n",
    "    new_lst = []\n",
    "    lst_sum = 0;\n",
    "    for i in lst:\n",
    "        new_lst.append(len(i))\n",
    "        lst_sum = lst_sum + len(i)\n",
    "    lst_count = len(new_lst)\n",
    "    print(\"average is :\" ,lst_sum/lst_count)\n",
    "lst = [\"amr\",\"apple\",\"Orange\",\"smaaaaaaa\"]\n",
    "my_fun(lst)"
   ]
  },
  {
   "cell_type": "code",
   "execution_count": null,
   "id": "b6846ee6-4844-4302-b671-d75fcd57d798",
   "metadata": {},
   "outputs": [],
   "source": []
  }
 ],
 "metadata": {
  "kernelspec": {
   "display_name": "Python 3 (ipykernel)",
   "language": "python",
   "name": "python3"
  },
  "language_info": {
   "codemirror_mode": {
    "name": "ipython",
    "version": 3
   },
   "file_extension": ".py",
   "mimetype": "text/x-python",
   "name": "python",
   "nbconvert_exporter": "python",
   "pygments_lexer": "ipython3",
   "version": "3.11.4"
  }
 },
 "nbformat": 4,
 "nbformat_minor": 5
}
