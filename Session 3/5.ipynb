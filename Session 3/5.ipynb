{
 "cells": [
  {
   "cell_type": "code",
   "execution_count": 1,
   "id": "26eb06e2-6391-49de-a3e0-b14047d52ddc",
   "metadata": {
    "tags": []
   },
   "outputs": [
    {
     "ename": "SyntaxError",
     "evalue": "invalid syntax (1638382953.py, line 1)",
     "output_type": "error",
     "traceback": [
      "\u001b[1;36m  Cell \u001b[1;32mIn[1], line 1\u001b[1;36m\u001b[0m\n\u001b[1;33m    fun(lst):\u001b[0m\n\u001b[1;37m            ^\u001b[0m\n\u001b[1;31mSyntaxError\u001b[0m\u001b[1;31m:\u001b[0m invalid syntax\n"
     ]
    }
   ],
   "source": [
    "fun(lst):\n",
    "    lst1 =[]\n",
    "    lst2 =[]\n",
    "    for i in lst:\n",
    "        if 'a' in i:\n",
    "            lst1.append('a')\n",
    "        elif 'e' in i:\n",
    "            lst1.append('e')  \n",
    "        elif 'i' in i:\n",
    "            lst1.append('i')\n",
    "        elif 'o' in i:\n",
    "            lst1.append('o')\n",
    "        elif 'u' in i:\n",
    "            lst1.append('u')\n",
    "        else:    "
   ]
  },
  {
   "cell_type": "code",
   "execution_count": 8,
   "id": "2e7ee4b6-d8e3-405f-b074-744e46bb5726",
   "metadata": {},
   "outputs": [
    {
     "name": "stdin",
     "output_type": "stream",
     "text": [
      "enter charchter please:  m\n"
     ]
    },
    {
     "name": "stdout",
     "output_type": "stream",
     "text": [
      "input_char m in amr\n",
      ": 1\n",
      "input_char m in manar\n",
      ": 1\n",
      "input_char m in mahmoud\n",
      ": 2\n",
      "input_char m in mohamed\n",
      ": 2\n",
      "input_char m in moussa\n",
      ": 1\n",
      "input_char m in mansour\n",
      ": 1\n",
      "input_char m in marwa: 1\n"
     ]
    }
   ],
   "source": [
    "def cou(input_char,lst):\n",
    "    for i in lst :\n",
    "        count = i.count(input_char)\n",
    "        print(f\"input_char {input_char} in {i}: {count}\")\n",
    "        \n",
    "file = open('p.txt','r')\n",
    "f = file.readlines()\n",
    "file.close()\n",
    "input_char = input(\"enter charchter please: \")\n",
    "cou(input_char,f)"
   ]
  },
  {
   "cell_type": "code",
   "execution_count": null,
   "id": "09110ce5-60e3-4d11-a409-e7381cd37316",
   "metadata": {},
   "outputs": [],
   "source": []
  }
 ],
 "metadata": {
  "kernelspec": {
   "display_name": "Python 3 (ipykernel)",
   "language": "python",
   "name": "python3"
  },
  "language_info": {
   "codemirror_mode": {
    "name": "ipython",
    "version": 3
   },
   "file_extension": ".py",
   "mimetype": "text/x-python",
   "name": "python",
   "nbconvert_exporter": "python",
   "pygments_lexer": "ipython3",
   "version": "3.11.4"
  }
 },
 "nbformat": 4,
 "nbformat_minor": 5
}
