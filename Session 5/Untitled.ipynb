{
 "cells": [
  {
   "cell_type": "code",
   "execution_count": 16,
   "id": "97078dab-7148-4cee-8aa3-25b8a4910c48",
   "metadata": {
    "tags": []
   },
   "outputs": [
    {
     "name": "stdout",
     "output_type": "stream",
     "text": [
      " school name is : 1 location is : \n",
      "welcome in our school\n"
     ]
    }
   ],
   "source": [
    "class school:\n",
    "    count = 0\n",
    "    def __init__(self, name, clss):\n",
    "        self.name = name\n",
    "        self.clss = clss\n",
    "        school.count +=1\n",
    "        \n",
    "    @classmethod\n",
    "    def location(cls):\n",
    "        #self.city = city\n",
    "        print(f\" school name is : {cls.count} location is : \")\n",
    "    \n",
    "    @staticmethod\n",
    "    def info():\n",
    "        print(\"welcome in our school\")\n",
    "        \n",
    "sc1 = school(\"xyz\",20)\n",
    "sc1.location()\n",
    "sc1.info()"
   ]
  },
  {
   "cell_type": "code",
   "execution_count": null,
   "id": "79e068c5-3480-45d0-8c98-c53c19ade515",
   "metadata": {},
   "outputs": [],
   "source": []
  }
 ],
 "metadata": {
  "kernelspec": {
   "display_name": "Python 3 (ipykernel)",
   "language": "python",
   "name": "python3"
  },
  "language_info": {
   "codemirror_mode": {
    "name": "ipython",
    "version": 3
   },
   "file_extension": ".py",
   "mimetype": "text/x-python",
   "name": "python",
   "nbconvert_exporter": "python",
   "pygments_lexer": "ipython3",
   "version": "3.11.4"
  }
 },
 "nbformat": 4,
 "nbformat_minor": 5
}
