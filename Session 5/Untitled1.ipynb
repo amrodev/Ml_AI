{
 "cells": [
  {
   "cell_type": "code",
   "execution_count": 8,
   "id": "e03e7500-1792-471f-94ea-511b581e8c90",
   "metadata": {
    "tags": []
   },
   "outputs": [
    {
     "name": "stdout",
     "output_type": "stream",
     "text": [
      "welcome in person class\n"
     ]
    }
   ],
   "source": [
    "class person:\n",
    "    def __init__(self,name):\n",
    "        self.name = name\n",
    "    \n",
    "    def greet(self):\n",
    "        print(\"welcome in person class\")\n",
    "\n",
    "pr = person(\"amr\")\n",
    "pr.greet()"
   ]
  },
  {
   "cell_type": "code",
   "execution_count": 10,
   "id": "b45619c9-50db-4291-bfb0-462c0dcdd1bc",
   "metadata": {
    "tags": []
   },
   "outputs": [
    {
     "data": {
      "text/plain": [
       "400"
      ]
     },
     "execution_count": 10,
     "metadata": {},
     "output_type": "execute_result"
    }
   ],
   "source": [
    "# Create a class called Rectangle with width and height attributes and a method called area that calculates the area of the rectangle.\n",
    "class Rectangle:\n",
    "    def __init__(self,width,height):\n",
    "        self.width = width\n",
    "        self.height = height\n",
    "        \n",
    "    def area(self):\n",
    "        return self.width*self.height\n",
    "rec = Rectangle(20,20) \n",
    "rec.area()"
   ]
  },
  {
   "cell_type": "code",
   "execution_count": 76,
   "id": "552d27a8-30cc-4829-b62e-7e7879240c7e",
   "metadata": {
    "tags": []
   },
   "outputs": [
    {
     "data": {
      "text/plain": [
       "4500"
      ]
     },
     "execution_count": 76,
     "metadata": {},
     "output_type": "execute_result"
    }
   ],
   "source": [
    "# Create a class called BankAccount with balance attribute and deposit and withdraw methods.\n",
    "class BankAccount:\n",
    "    def __init__(self,balance,deposit):\n",
    "        self.balance = balance\n",
    "        self.deposit = deposit\n",
    "    \n",
    "    def withdraw(self):\n",
    "        if self.deposit > self.balance:\n",
    "            return \"cant make this action\"\n",
    "        else:\n",
    "            return self.balance - self.deposit\n",
    "    \n",
    "bk = BankAccount(5000,500)   \n",
    "bk.withdraw()"
   ]
  },
  {
   "cell_type": "code",
   "execution_count": 16,
   "id": "6bf71219-ebb4-40ca-b9ef-c36a46a1a013",
   "metadata": {
    "tags": []
   },
   "outputs": [
    {
     "name": "stdout",
     "output_type": "stream",
     "text": [
      "this car model is lancer and was made on 2020\n"
     ]
    }
   ],
   "source": [
    "# Create a class called Car with make, model, and year attributes and a description method that prints a description of the car.\n",
    "class Car:\n",
    "    def __init__(self,model,year):\n",
    "        self.model = model\n",
    "        self.year = year\n",
    "        \n",
    "    def description(self):\n",
    "        print(f\"this car model is {self.model} and was made on {self.year}\")\n",
    "car = Car(\"lancer\",2020)  \n",
    "car.description()"
   ]
  },
  {
   "cell_type": "code",
   "execution_count": null,
   "id": "3a09893e-3950-4c18-b80d-67b56349a7ea",
   "metadata": {},
   "outputs": [],
   "source": [
    "# Create a class called Employee with name, title, and salary attributes and a raise_salary method that increases the salary by a certain percentage."
   ]
  },
  {
   "cell_type": "code",
   "execution_count": 21,
   "id": "02c42e0d-380f-4d52-a3db-fd62d91fc4ef",
   "metadata": {
    "tags": []
   },
   "outputs": [
    {
     "data": {
      "text/plain": [
       "2600.0"
      ]
     },
     "execution_count": 21,
     "metadata": {},
     "output_type": "execute_result"
    }
   ],
   "source": [
    "class Employee:\n",
    "    def __init__(self,name,title,salary):\n",
    "        self.name = name\n",
    "        self.title = title\n",
    "        self.salary = salary\n",
    "    \n",
    "    def raise_salary(self,rais):\n",
    "        return (self.salary*rais/100)+self.salary\n",
    "emp = Employee(\"ahmed\",\"accountant\",2000)    \n",
    "emp.raise_salary(30)"
   ]
  },
  {
   "cell_type": "code",
   "execution_count": 24,
   "id": "4a0f525b-c8f1-4e08-8712-1f19ba6007b5",
   "metadata": {
    "tags": []
   },
   "outputs": [
    {
     "data": {
      "text/plain": [
       "78.5"
      ]
     },
     "execution_count": 24,
     "metadata": {},
     "output_type": "execute_result"
    }
   ],
   "source": [
    "# Create a class called Circle with radius attribute and area and circumference methods that calculate the area and circumference of the circle.\n",
    "class Circle:\n",
    "    def __init__(self,radius):\n",
    "        self.radius = radius\n",
    "     \n",
    "    def area(self):\n",
    "        return 3.14 * self.radius ** 2\n",
    "\n",
    "    def circumference(self):\n",
    "        return 2 * 3.14 * self.radius\n",
    "    \n",
    "cr = Circle(5)\n",
    "cr.area()\n",
    "cr.circumference()"
   ]
  },
  {
   "cell_type": "code",
   "execution_count": 33,
   "id": "f98231c5-c1d0-4070-9357-4681c8dd1d7f",
   "metadata": {
    "tags": []
   },
   "outputs": [
    {
     "data": {
      "text/plain": [
       "17.0"
      ]
     },
     "execution_count": 33,
     "metadata": {},
     "output_type": "execute_result"
    }
   ],
   "source": [
    "# Create a class called Student with name and grades attributes and a average_grade method that calculates the average of the grades.\n",
    "class Student:\n",
    "    def __init__(self,name,grades):\n",
    "        self.name = name\n",
    "        self.grades = grades\n",
    "      \n",
    "    def average_grade(self):\n",
    "        ln = len(self.grades)\n",
    "        sm = 0\n",
    "        for i in self.grades:\n",
    "            sm = sm + i\n",
    "        return sm/ln  \n",
    "    \n",
    "std = Student(\"amr\",[5,10,20,30,20])\n",
    "std.average_grade()"
   ]
  },
  {
   "cell_type": "code",
   "execution_count": 34,
   "id": "80a01d32-7683-436a-b4ac-8b0f3e939ac6",
   "metadata": {
    "tags": []
   },
   "outputs": [],
   "source": [
    "# Create a class called Bank with accounts attribute that is a list of BankAccount objects \n",
    "# and a total_balance method that calculates the total balance of all the accounts"
   ]
  },
  {
   "cell_type": "code",
   "execution_count": 62,
   "id": "9f94ec6d-b44d-48e0-b893-a18673d443ef",
   "metadata": {
    "tags": []
   },
   "outputs": [
    {
     "data": {
      "text/plain": [
       "15000"
      ]
     },
     "execution_count": 62,
     "metadata": {},
     "output_type": "execute_result"
    }
   ],
   "source": [
    "class Bank:\n",
    "    def __init__(self,accounts):\n",
    "        self.accounts = accounts\n",
    "    \n",
    "    def total_balance(self):\n",
    "        sm = 0\n",
    "        for i in self.accounts:\n",
    "            sm += int(i)\n",
    "        return sm   \n",
    "    \n",
    "acts = [5000 ,5000,5000]\n",
    "accounts = Bank(acts)\n",
    "accounts.total_balance()"
   ]
  },
  {
   "cell_type": "code",
   "execution_count": 67,
   "id": "055f27d3-c662-47c3-adb2-d530ea3d6b62",
   "metadata": {
    "tags": []
   },
   "outputs": [
    {
     "data": {
      "text/plain": [
       "'found it'"
      ]
     },
     "execution_count": 67,
     "metadata": {},
     "output_type": "execute_result"
    }
   ],
   "source": [
    "# reate a class called Library with books attribute that is a list of Book objects and a find_book method that searches for a book by title.\n",
    "class Library:\n",
    "    def __init__(self,books):\n",
    "        self.books = books\n",
    "        \n",
    "    def search(self,search_value):\n",
    "        if search_value in self.books:\n",
    "            return \"found it\"\n",
    "        else:\n",
    "            return \"not found\"\n",
    "        \n",
    "lst = ['book1','book2','book3']\n",
    "lib = Library(lst)\n",
    "lib.search(\"book1\")"
   ]
  },
  {
   "cell_type": "code",
   "execution_count": null,
   "id": "2496f27d-be32-4fc8-b191-ac01d5f7d20b",
   "metadata": {},
   "outputs": [],
   "source": []
  }
 ],
 "metadata": {
  "kernelspec": {
   "display_name": "Python 3 (ipykernel)",
   "language": "python",
   "name": "python3"
  },
  "language_info": {
   "codemirror_mode": {
    "name": "ipython",
    "version": 3
   },
   "file_extension": ".py",
   "mimetype": "text/x-python",
   "name": "python",
   "nbconvert_exporter": "python",
   "pygments_lexer": "ipython3",
   "version": "3.11.4"
  }
 },
 "nbformat": 4,
 "nbformat_minor": 5
}
