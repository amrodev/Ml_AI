{
 "cells": [
  {
   "cell_type": "code",
   "execution_count": 14,
   "id": "65cbbdba-21d4-4a31-9ff2-f4412baebff8",
   "metadata": {
    "tags": []
   },
   "outputs": [
    {
     "name": "stdout",
     "output_type": "stream",
     "text": [
      "[2, 5, 2]\n"
     ]
    }
   ],
   "source": [
    "lst1 = [1,4,1]\n",
    "lst2 = [2,1,1]\n",
    "new_lst = []\n",
    "for i in lst1:\n",
    "    for x in range(1,len(lst1)):\n",
    "        new_lst.append(i+x)\n",
    "        break\n",
    "        \n",
    "print(new_lst)        "
   ]
  },
  {
   "cell_type": "code",
   "execution_count": 15,
   "id": "6189adf6-b697-4954-9bf4-d7bda9a46bf6",
   "metadata": {
    "tags": []
   },
   "outputs": [
    {
     "name": "stdout",
     "output_type": "stream",
     "text": [
      "[4, 6, 8]\n"
     ]
    }
   ],
   "source": [
    "def multi(vector,scalar_num):\n",
    "    vec = []\n",
    "    for i in vector:\n",
    "        vec.append(scalar_num*i)\n",
    "    return   vec\n",
    "\n",
    "vector = [2,3,4]\n",
    "scalar_num = 2\n",
    "print(multi(vector,scalar_num))"
   ]
  },
  {
   "cell_type": "code",
   "execution_count": 36,
   "id": "8086279d-8520-4a83-ae86-af7d91493b69",
   "metadata": {
    "tags": []
   },
   "outputs": [
    {
     "ename": "TypeError",
     "evalue": "'int' object is not iterable",
     "output_type": "error",
     "traceback": [
      "\u001b[1;31m---------------------------------------------------------------------------\u001b[0m",
      "\u001b[1;31mTypeError\u001b[0m                                 Traceback (most recent call last)",
      "Cell \u001b[1;32mIn[36], line 4\u001b[0m\n\u001b[0;32m      2\u001b[0m lst2 \u001b[38;5;241m=\u001b[39m [\u001b[38;5;241m2\u001b[39m,\u001b[38;5;241m1\u001b[39m,\u001b[38;5;241m1\u001b[39m]\n\u001b[0;32m      3\u001b[0m new_lst \u001b[38;5;241m=\u001b[39m []\n\u001b[1;32m----> 4\u001b[0m \u001b[38;5;28;01mfor\u001b[39;00m i \u001b[38;5;129;01min\u001b[39;00m \u001b[38;5;28mlen\u001b[39m(lst1):\n\u001b[0;32m      5\u001b[0m     \u001b[38;5;28mprint\u001b[39m(lst1[i] \u001b[38;5;241m*\u001b[39m lst2[i])\n\u001b[0;32m      6\u001b[0m     \u001b[38;5;28;01mfor\u001b[39;00m x \u001b[38;5;129;01min\u001b[39;00m \u001b[38;5;28mrange\u001b[39m(\u001b[38;5;241m1\u001b[39m,\u001b[38;5;28mlen\u001b[39m(lst1)):\n",
      "\u001b[1;31mTypeError\u001b[0m: 'int' object is not iterable"
     ]
    }
   ],
   "source": [
    "lst1 = [1,4,1]\n",
    "lst2 = [2,1,1]\n",
    "new_lst = []\n",
    "for i in len(lst1):\n",
    "    print(lst1[i] * lst2[i])\n",
    "    for x in range(1,len(lst1)):\n",
    "        new_lst.append(i * x)\n",
    "        break\n",
    "print(new_lst)        \n",
    "sum = 0        \n",
    "for i in new_lst:\n",
    "    sum += i\n",
    "    \n",
    "print(sum)    "
   ]
  },
  {
   "cell_type": "code",
   "execution_count": 40,
   "id": "cb9c17e3-a0a7-490f-923b-1de0b9ed8afe",
   "metadata": {
    "tags": []
   },
   "outputs": [
    {
     "name": "stdout",
     "output_type": "stream",
     "text": [
      "[3, 3]\n"
     ]
    }
   ],
   "source": [
    "matrix = [[1,2,3],[2,3,3]]\n",
    "counts = []\n",
    "for i in matrix:\n",
    "    counts.append(len(i))\n",
    "    \n",
    "print(counts)    "
   ]
  },
  {
   "cell_type": "code",
   "execution_count": null,
   "id": "92bc023f-edbc-4ff8-abf9-191b020c629c",
   "metadata": {},
   "outputs": [],
   "source": []
  }
 ],
 "metadata": {
  "kernelspec": {
   "display_name": "Python 3 (ipykernel)",
   "language": "python",
   "name": "python3"
  },
  "language_info": {
   "codemirror_mode": {
    "name": "ipython",
    "version": 3
   },
   "file_extension": ".py",
   "mimetype": "text/x-python",
   "name": "python",
   "nbconvert_exporter": "python",
   "pygments_lexer": "ipython3",
   "version": "3.11.4"
  }
 },
 "nbformat": 4,
 "nbformat_minor": 5
}
