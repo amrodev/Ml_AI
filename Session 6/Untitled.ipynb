{
 "cells": [
  {
   "cell_type": "code",
   "execution_count": 34,
   "id": "7aef2b09-3acb-41c6-84b5-0fde29c8d1ff",
   "metadata": {
    "tags": []
   },
   "outputs": [
    {
     "ename": "IndexError",
     "evalue": "list index out of range",
     "output_type": "error",
     "traceback": [
      "\u001b[1;31m---------------------------------------------------------------------------\u001b[0m",
      "\u001b[1;31mIndexError\u001b[0m                                Traceback (most recent call last)",
      "Cell \u001b[1;32mIn[34], line 6\u001b[0m\n\u001b[0;32m      4\u001b[0m \u001b[38;5;28;01mfor\u001b[39;00m i \u001b[38;5;129;01min\u001b[39;00m \u001b[38;5;28mrange\u001b[39m(\u001b[38;5;28mlen\u001b[39m(matrix1)):\n\u001b[0;32m      5\u001b[0m     \u001b[38;5;28;01mfor\u001b[39;00m x \u001b[38;5;129;01min\u001b[39;00m \u001b[38;5;28mrange\u001b[39m(\u001b[38;5;28mlen\u001b[39m(matrix1)):\n\u001b[1;32m----> 6\u001b[0m         new_matrix[i][x] \u001b[38;5;241m=\u001b[39m matrix1[i][x] \u001b[38;5;241m+\u001b[39m matrix2[i][x]\n\u001b[0;32m      7\u001b[0m         \u001b[38;5;28;01mbreak\u001b[39;00m\n\u001b[0;32m      9\u001b[0m \u001b[38;5;28mprint\u001b[39m(new_matrix)\n",
      "\u001b[1;31mIndexError\u001b[0m: list index out of range"
     ]
    }
   ],
   "source": [
    "matrix1 = [ [1,2],[3,4]]\n",
    "matrix2 = [ [5,6],[7,8]]\n",
    "new_matrix  = []\n",
    "for i in range(len(matrix1)):\n",
    "    for x in range(len(matrix1)):\n",
    "        new_matrix[i][x] = matrix1[i][x] + matrix2[i][x]\n",
    "        break\n",
    "    \n",
    "print(new_matrix)"
   ]
  },
  {
   "cell_type": "code",
   "execution_count": 44,
   "id": "f46ed21f-09d3-42b5-8d95-4753e2cc777a",
   "metadata": {
    "tags": []
   },
   "outputs": [
    {
     "ename": "IndexError",
     "evalue": "list index out of range",
     "output_type": "error",
     "traceback": [
      "\u001b[1;31m---------------------------------------------------------------------------\u001b[0m",
      "\u001b[1;31mIndexError\u001b[0m                                Traceback (most recent call last)",
      "Cell \u001b[1;32mIn[44], line 7\u001b[0m\n\u001b[0;32m      5\u001b[0m \u001b[38;5;28;01mfor\u001b[39;00m i \u001b[38;5;129;01min\u001b[39;00m \u001b[38;5;28mrange\u001b[39m(\u001b[38;5;28mlen\u001b[39m(matrix1)):\n\u001b[0;32m      6\u001b[0m     \u001b[38;5;28;01mfor\u001b[39;00m x \u001b[38;5;129;01min\u001b[39;00m \u001b[38;5;28mrange\u001b[39m(\u001b[38;5;28mlen\u001b[39m(matrix1[\u001b[38;5;241m0\u001b[39m])):\n\u001b[1;32m----> 7\u001b[0m         new_matrix[x][i] \u001b[38;5;241m=\u001b[39m matrix1[i][x] \u001b[38;5;241m+\u001b[39m matrix2[i][x]\n\u001b[0;32m      9\u001b[0m \u001b[38;5;28mprint\u001b[39m(new_matrix)\n",
      "\u001b[1;31mIndexError\u001b[0m: list index out of range"
     ]
    }
   ],
   "source": [
    "matrix1 = [[1,2],[1,2]]\n",
    "matrix2 = [[1,2],[1,2]]\n",
    "new_matrix  = []\n",
    "\n",
    "for i in range(len(matrix1)):\n",
    "    for x in range(len(matrix1[0])):\n",
    "        new_matrix[x][i] = matrix1[i][x] + matrix2[i][x]\n",
    "      \n",
    "print(new_matrix)    "
   ]
  },
  {
   "cell_type": "code",
   "execution_count": null,
   "id": "dfb8d41b-db43-43fd-ad8f-9a92ed6a48fb",
   "metadata": {},
   "outputs": [],
   "source": []
  }
 ],
 "metadata": {
  "kernelspec": {
   "display_name": "Python 3 (ipykernel)",
   "language": "python",
   "name": "python3"
  },
  "language_info": {
   "codemirror_mode": {
    "name": "ipython",
    "version": 3
   },
   "file_extension": ".py",
   "mimetype": "text/x-python",
   "name": "python",
   "nbconvert_exporter": "python",
   "pygments_lexer": "ipython3",
   "version": "3.11.4"
  }
 },
 "nbformat": 4,
 "nbformat_minor": 5
}
