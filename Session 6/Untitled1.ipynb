{
 "cells": [
  {
   "cell_type": "code",
   "execution_count": 57,
   "id": "fb51a534-f23a-4a3a-9274-1e679be183f9",
   "metadata": {
    "tags": []
   },
   "outputs": [
    {
     "name": "stdout",
     "output_type": "stream",
     "text": [
      "matrix1: 5   2   10\n",
      "matrix1: 2   1   2\n",
      "matrix1: 4   2   8\n",
      "matrix1: 7   1   7\n",
      "matrix1: 3   2   6\n",
      "matrix1: 9   1   9\n"
     ]
    }
   ],
   "source": [
    "matrix1 = [[5,2],[4,7],[3,9]]\n",
    "matrix2 = [2,1]\n",
    "# 5*2 + 2*1\n",
    "new_matrix = []\n",
    "for i in range(len(matrix1)):\n",
    "    for x in range(len(matrix1[i])):\n",
    "        print( \"matrix1:\" , matrix1[i][x], \" \",matrix2[x] ,\" \",matrix1[i][x]*matrix2[x])\n",
    "        new_matrix.append(matrix1[i][x]*matrix2[x])"
   ]
  },
  {
   "cell_type": "code",
   "execution_count": null,
   "id": "29c2d814-0b70-4ee6-8e7f-a37e41ca980d",
   "metadata": {},
   "outputs": [],
   "source": []
  }
 ],
 "metadata": {
  "kernelspec": {
   "display_name": "Python 3 (ipykernel)",
   "language": "python",
   "name": "python3"
  },
  "language_info": {
   "codemirror_mode": {
    "name": "ipython",
    "version": 3
   },
   "file_extension": ".py",
   "mimetype": "text/x-python",
   "name": "python",
   "nbconvert_exporter": "python",
   "pygments_lexer": "ipython3",
   "version": "3.11.4"
  }
 },
 "nbformat": 4,
 "nbformat_minor": 5
}
