{
 "cells": [
  {
   "cell_type": "code",
   "execution_count": 1,
   "id": "94e60082-2561-4ff9-9883-65a766d6715e",
   "metadata": {
    "tags": []
   },
   "outputs": [
    {
     "name": "stdout",
     "output_type": "stream",
     "text": [
      "Hi\n"
     ]
    }
   ],
   "source": [
    "print(\"Hi\")"
   ]
  },
  {
   "cell_type": "code",
   "execution_count": 2,
   "id": "0b8f08ff-186d-4c0a-aeed-e570a8ac8908",
   "metadata": {
    "tags": []
   },
   "outputs": [],
   "source": [
    "x = \"my name is amr\""
   ]
  },
  {
   "cell_type": "code",
   "execution_count": 7,
   "id": "b4b85d18-8641-4e09-9eb5-b6d684af7268",
   "metadata": {
    "tags": []
   },
   "outputs": [
    {
     "name": "stdout",
     "output_type": "stream",
     "text": [
      "my name is amr \n"
     ]
    }
   ],
   "source": [
    "name = \"amr\"\n",
    "age = 35\n",
    "add = \"cairo\"\n",
    "\n",
    "\n",
    "print(\"my name is {} \".format(name))"
   ]
  },
  {
   "cell_type": "code",
   "execution_count": 8,
   "id": "bc39cae3-27ea-45f8-9f6c-4e649368de0d",
   "metadata": {
    "tags": []
   },
   "outputs": [],
   "source": [
    "dic = {\"name\" : \"amr\"}"
   ]
  },
  {
   "cell_type": "code",
   "execution_count": 11,
   "id": "01ee0e3e-6091-4bad-9850-c76e75fb7175",
   "metadata": {
    "tags": []
   },
   "outputs": [
    {
     "ename": "NameError",
     "evalue": "name 'hany' is not defined",
     "output_type": "error",
     "traceback": [
      "\u001b[1;31m---------------------------------------------------------------------------\u001b[0m",
      "\u001b[1;31mNameError\u001b[0m                                 Traceback (most recent call last)",
      "Cell \u001b[1;32mIn[11], line 1\u001b[0m\n\u001b[1;32m----> 1\u001b[0m dic[\u001b[38;5;124m\"\u001b[39m\u001b[38;5;124mname\u001b[39m\u001b[38;5;124m\"\u001b[39m] \u001b[38;5;241m=\u001b[39m hany\n",
      "\u001b[1;31mNameError\u001b[0m: name 'hany' is not defined"
     ]
    }
   ],
   "source": [
    "dic[\"name\"] = hany\n"
   ]
  },
  {
   "cell_type": "code",
   "execution_count": 12,
   "id": "b76b7210-707a-4224-9eec-1509ef2761ae",
   "metadata": {
    "tags": []
   },
   "outputs": [],
   "source": [
    "x=6"
   ]
  },
  {
   "cell_type": "code",
   "execution_count": 14,
   "id": "3038e875-835b-4bdb-aadf-204aed8a6f1e",
   "metadata": {
    "tags": []
   },
   "outputs": [
    {
     "name": "stdout",
     "output_type": "stream",
     "text": [
      "No\n"
     ]
    }
   ],
   "source": [
    "if x % 2:\n",
    "    print(\"yes\")\n",
    "else:\n",
    "    print(\"No\")"
   ]
  },
  {
   "cell_type": "code",
   "execution_count": 16,
   "id": "e1005224-e03c-4ad8-b990-448b4e5bdd84",
   "metadata": {
    "tags": []
   },
   "outputs": [
    {
     "name": "stdout",
     "output_type": "stream",
     "text": [
      "[0, 1, 2, 3, 4]\n"
     ]
    }
   ],
   "source": [
    "lst = []\n",
    "for i in range(5):\n",
    "    lst.append(i)\n",
    "    \n",
    "print(lst)    "
   ]
  },
  {
   "cell_type": "code",
   "execution_count": null,
   "id": "a9544341-773f-4527-aef1-41dbfa9a6cb2",
   "metadata": {},
   "outputs": [],
   "source": []
  }
 ],
 "metadata": {
  "kernelspec": {
   "display_name": "Python 3 (ipykernel)",
   "language": "python",
   "name": "python3"
  },
  "language_info": {
   "codemirror_mode": {
    "name": "ipython",
    "version": 3
   },
   "file_extension": ".py",
   "mimetype": "text/x-python",
   "name": "python",
   "nbconvert_exporter": "python",
   "pygments_lexer": "ipython3",
   "version": "3.11.4"
  }
 },
 "nbformat": 4,
 "nbformat_minor": 5
}
